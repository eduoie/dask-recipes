{
 "cells": [
  {
   "cell_type": "markdown",
   "metadata": {},
   "source": [
    "--> **Make sure to have configure aws cli** <--\n",
    "\n",
    "Sources:\n",
    "* https://medium.com/rapids-ai/getting-started-with-rapids-on-aws-ecs-using-dask-cloud-provider-b1adfdbc9c6e\n",
    "* https://cloudprovider.dask.org/en/latest/aws.html"
   ]
  },
  {
   "cell_type": "code",
   "execution_count": null,
   "metadata": {},
   "outputs": [],
   "source": [
    "%pip install dask-cloudprovider"
   ]
  },
  {
   "cell_type": "code",
   "execution_count": 2,
   "metadata": {},
   "outputs": [],
   "source": [
    "from dask_cloudprovider.aws import ECSCluster"
   ]
  },
  {
   "cell_type": "code",
   "execution_count": null,
   "metadata": {},
   "outputs": [],
   "source": [
    "# change ***** for aws user id\n",
    "cluster = ECSCluster(\n",
    "    cluster_arn=\"arn:aws:ecs:us-east-1:*****:cluster/dask-cluster\",\n",
    "    n_workers=1,\n",
    "    fargate_scheduler=True    \n",
    ")"
   ]
  },
  {
   "cell_type": "markdown",
   "metadata": {},
   "source": [
    "This error (edited) was produced:\n",
    "\n",
    "`RuntimeError: {'tasks': [], 'failures': [{'arn': 'arn:aws:ecs:us-east-1:***:container-instance/e1e87bfb484447e4a5557f54201675af', 'reason': 'RESOURCE:CPU'}], 'ResponseMetadata': {'RequestId': 'request_id****', 'HTTPStatusCode': 200, 'HTTPHeaders': {'x-amzn-requestid': 'request_id****', 'content-type': 'application/x-amz-json-1.1', 'content-length': '146', 'date': 'Mon, 21 Mar 2022 10:37:10 GMT'}, 'RetryAttempts': 0}}`"
   ]
  },
  {
   "cell_type": "code",
   "execution_count": 2,
   "metadata": {},
   "outputs": [],
   "source": [
    "from dask_cloudprovider.aws import FargateCluster"
   ]
  },
  {
   "cell_type": "code",
   "execution_count": null,
   "metadata": {},
   "outputs": [],
   "source": [
    "# ERROR: InvalidParameterException: An error occurred (InvalidParameterException) when calling the RunTask operation: The specified capacity provider strategy cannot contain a capacity provider that is not associated with the cluster. Associate the capacity provider with the cluster or specify a valid capacity provider and try again.\n",
    "# cluster = FargateCluster(n_workers=1, fargate_spot=True) \n",
    "# cluster = FargateCluster(fargate_spot=True)\n",
    "cluster = FargateCluster(n_workers=1)"
   ]
  },
  {
   "cell_type": "code",
   "execution_count": 14,
   "metadata": {},
   "outputs": [
    {
     "data": {
      "application/vnd.jupyter.widget-view+json": {
       "model_id": "d35b2f7f68e44b168a05d4df0f878d27",
       "version_major": 2,
       "version_minor": 0
      },
      "text/plain": [
       "Tab(children=(HTML(value='<div class=\"jp-RenderedHTMLCommon jp-RenderedHTML jp-mod-trusted jp-OutputArea-outpu…"
      ]
     },
     "metadata": {},
     "output_type": "display_data"
    }
   ],
   "source": [
    "cluster"
   ]
  },
  {
   "cell_type": "code",
   "execution_count": 15,
   "metadata": {},
   "outputs": [],
   "source": [
    "cluster.scale(2)"
   ]
  },
  {
   "cell_type": "code",
   "execution_count": 16,
   "metadata": {},
   "outputs": [
    {
     "name": "stderr",
     "output_type": "stream",
     "text": [
      "/Users/eduardogutierrez/opt/anaconda3/envs/dask-recipes/lib/python3.8/site-packages/distributed/client.py:1105: VersionMismatchWarning: Mismatched versions found\n",
      "\n",
      "+-------------+-----------+-----------+-----------+\n",
      "| Package     | client    | scheduler | workers   |\n",
      "+-------------+-----------+-----------+-----------+\n",
      "| blosc       | None      | 1.10.2    | 1.10.2    |\n",
      "| dask        | 2021.08.0 | 2022.02.1 | 2022.02.1 |\n",
      "| distributed | 2021.08.0 | 2022.2.1  | 2022.2.1  |\n",
      "| lz4         | None      | 3.1.10    | 3.1.10    |\n",
      "| numpy       | 1.22.3    | 1.21.1    | 1.21.1    |\n",
      "| pandas      | 1.4.1     | 1.3.0     | 1.3.0     |\n",
      "+-------------+-----------+-----------+-----------+\n",
      "  warnings.warn(version_module.VersionMismatchWarning(msg[0][\"warning\"]))\n"
     ]
    }
   ],
   "source": [
    "from dask.distributed import Client\n",
    "client = Client(cluster)"
   ]
  },
  {
   "cell_type": "markdown",
   "metadata": {},
   "source": [
    "**There is a version mismatch!**. Follow guidelines here:\n",
    "https://cloudprovider.dask.org/en/latest/aws.html#dask_cloudprovider.aws.FargateCluster\n",
    "\n",
    "One strategy to ensure that package versions match between your custom environment and the Docker container is to create your environment from an `environment.yml` file, export the exact package list for that environment using `conda list --export > package-list.txt`, and then use the pinned package versions contained in `package-list.txt` in your Dockerfile. You could use the default [Dask Dockerfile](https://github.com/dask/dask-docker/blob/main/base/Dockerfile) as a template and simply add your pinned additional packages."
   ]
  },
  {
   "cell_type": "code",
   "execution_count": 17,
   "metadata": {},
   "outputs": [],
   "source": [
    "# quick test\n",
    "import dask.array as da\n",
    "arr = da.random.random((1000, 1000, 10000), chunks=(100, 100, 1000))\n",
    "arr = arr.mean().persist()"
   ]
  },
  {
   "cell_type": "code",
   "execution_count": 19,
   "metadata": {},
   "outputs": [
    {
     "data": {
      "text/html": [
       "<table>\n",
       "<tr>\n",
       "<td>\n",
       "<table>\n",
       "  <thead>\n",
       "    <tr><td> </td><th> Array </th><th> Chunk </th></tr>\n",
       "  </thead>\n",
       "  <tbody>\n",
       "    <tr><th> Bytes </th><td> 8 B </td> <td> 8.0 B </td></tr>\n",
       "    <tr><th> Shape </th><td> () </td> <td> () </td></tr>\n",
       "    <tr><th> Count </th><td> 1 Tasks </td><td> 1 Chunks </td></tr>\n",
       "    <tr><th> Type </th><td> float64 </td><td> numpy.ndarray </td></tr>\n",
       "  </tbody>\n",
       "</table>\n",
       "</td>\n",
       "<td>\n",
       "\n",
       "</td>\n",
       "</tr>\n",
       "</table>"
      ],
      "text/plain": [
       "dask.array<mean_agg-aggregate, shape=(), dtype=float64, chunksize=(), chunktype=numpy.ndarray>"
      ]
     },
     "execution_count": 19,
     "metadata": {},
     "output_type": "execute_result"
    }
   ],
   "source": [
    "arr"
   ]
  },
  {
   "cell_type": "code",
   "execution_count": 20,
   "metadata": {},
   "outputs": [],
   "source": [
    "cluster.scale(1) # check Dask dashboard"
   ]
  },
  {
   "cell_type": "code",
   "execution_count": 21,
   "metadata": {},
   "outputs": [],
   "source": [
    "arr = da.random.random((1000, 1000, 10000), chunks=(100, 100, 1000))\n",
    "arr = arr.mean().persist()"
   ]
  },
  {
   "cell_type": "code",
   "execution_count": 22,
   "metadata": {},
   "outputs": [
    {
     "data": {
      "text/html": [
       "<table>\n",
       "<tr>\n",
       "<td>\n",
       "<table>\n",
       "  <thead>\n",
       "    <tr><td> </td><th> Array </th><th> Chunk </th></tr>\n",
       "  </thead>\n",
       "  <tbody>\n",
       "    <tr><th> Bytes </th><td> 8 B </td> <td> 8.0 B </td></tr>\n",
       "    <tr><th> Shape </th><td> () </td> <td> () </td></tr>\n",
       "    <tr><th> Count </th><td> 1 Tasks </td><td> 1 Chunks </td></tr>\n",
       "    <tr><th> Type </th><td> float64 </td><td> numpy.ndarray </td></tr>\n",
       "  </tbody>\n",
       "</table>\n",
       "</td>\n",
       "<td>\n",
       "\n",
       "</td>\n",
       "</tr>\n",
       "</table>"
      ],
      "text/plain": [
       "dask.array<mean_agg-aggregate, shape=(), dtype=float64, chunksize=(), chunktype=numpy.ndarray>"
      ]
     },
     "execution_count": 22,
     "metadata": {},
     "output_type": "execute_result"
    }
   ],
   "source": [
    "arr"
   ]
  },
  {
   "cell_type": "markdown",
   "metadata": {},
   "source": [
    "Cluster is deleted by default after 5 minutes of inactivity.\n",
    "\n",
    "Still, it is necessary to ensure they correctly shut down! Check (depending on aws cli credentials region) https://us-east-1.console.aws.amazon.com/ecs/"
   ]
  },
  {
   "cell_type": "code",
   "execution_count": null,
   "metadata": {},
   "outputs": [],
   "source": []
  }
 ],
 "metadata": {
  "interpreter": {
   "hash": "df6628d4d0bc60662dce5c6016c9fc48ed2209be861d23364c5b7fd1626130b6"
  },
  "kernelspec": {
   "display_name": "Python 3.8.12 ('dask-recipes')",
   "language": "python",
   "name": "python3"
  },
  "language_info": {
   "codemirror_mode": {
    "name": "ipython",
    "version": 3
   },
   "file_extension": ".py",
   "mimetype": "text/x-python",
   "name": "python",
   "nbconvert_exporter": "python",
   "pygments_lexer": "ipython3",
   "version": "3.8.12"
  },
  "orig_nbformat": 4
 },
 "nbformat": 4,
 "nbformat_minor": 2
}
